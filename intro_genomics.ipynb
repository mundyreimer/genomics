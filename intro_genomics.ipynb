{
 "cells": [
  {
   "cell_type": "code",
   "execution_count": 1,
   "metadata": {},
   "outputs": [],
   "source": [
    "from Bio import SeqIO"
   ]
  },
  {
   "cell_type": "markdown",
   "metadata": {},
   "source": [
    "---"
   ]
  },
  {
   "cell_type": "markdown",
   "metadata": {},
   "source": [
    "#### Check what the raw file looks like"
   ]
  },
  {
   "cell_type": "code",
   "execution_count": 14,
   "metadata": {},
   "outputs": [
    {
     "name": "stdout",
     "output_type": "stream",
     "text": [
      ">refseq|NC_035189|3387bp|Antonospora locustae virus 1, complete genome Amalgaviridae\n",
      "ACAAATGGAAGCGAGTGTCTTCGTTAGCCGTCTCATGGCCATCGAGCCATCTGACTTCAG\n",
      "CCAGCACTTTTCTTTACCAATGTCAATCTGCGACCATGGTCTTAAGATGATCAGAATAAG\n",
      "CGCAGAGCAGACTCCGGCGTTCGTTAAAGCATTCACAACTCAGTATGCTTTAAGTAATGA\n",
      "ATGTCCGCAAACAGAGTTTTTCAACGCTTTATTCGACTACATCATGGATGGTAAGATCAA\n",
      "ACAGGCCATAGGTGAAGCAAGTGGTCGACTGAGGAAGGAGCAAAAGCTGCTTCAGTTCCA\n",
      "GGAACTACACGGCTTTAGCAAAGACATTGAAGATGACTTCAATGAGGCTTTAATCCTCTA\n",
      "TAACAAGGAGCGAGCTGATTTGAGGTCAGTCAAAGATAAGTTCGACGAGTTGACCAAAGA\n",
      "CCTAAATGGCATCTTCAAGGTTCTTGAAGAGGAGCTGTCTCAAAGGTGGTCAGCACTTGA\n",
      "GACTATTATCAATGAAAAGAAAACAAATGCTGCTGAAGCACAGAAGAGAGCTCGGACTAA\n"
     ]
    }
   ],
   "source": [
    "%%bash\n",
    "\n",
    "head data/S9_Viral_FA/Amalgaviridae.fa"
   ]
  },
  {
   "cell_type": "markdown",
   "metadata": {},
   "source": [
    "---"
   ]
  },
  {
   "cell_type": "markdown",
   "metadata": {},
   "source": [
    "#### How can Biopython parse this data?"
   ]
  },
  {
   "cell_type": "code",
   "execution_count": 23,
   "metadata": {},
   "outputs": [
    {
     "name": "stdout",
     "output_type": "stream",
     "text": [
      "refseq|NC_035189|3387bp|Antonospora\n",
      "Seq('ACAAATGGAAGCGAGTGTCTTCGTTAGCCGTCTCATGGCCATCGAGCCATCTGA...GCC', SingleLetterAlphabet())\n",
      "3387\n",
      "refseq|NC_014593|3431bp|Blueberry\n",
      "Seq('GTATTTTTATTTTCGGACACCGAGGTTCCTTCTGCGTGCGCTATCTGATAGTCT...TCC', SingleLetterAlphabet())\n",
      "3431\n",
      "refseq|NC_014481|3427bp|Rhododendron\n",
      "Seq('GTATTAATTTATATCAAATACAAAAGACTGCAGGTGACTGATCTGCGATCAAAT...GTC', SingleLetterAlphabet())\n",
      "3427\n",
      "refseq|NC_011591|3437bp|Southern\n",
      "Seq('GATAAATTTAGTAAGCTACCTAGCGGAATTAAGAACTTTCACAAAAGGGTGAGG...TTC', SingleLetterAlphabet())\n",
      "3437\n",
      "refseq|NC_035070|3420bp|Spinach\n",
      "Seq('CCATATAATTGTTTTGCCATCGAGAAAAACGTCAAGAGGAAGAAGACTTCAGCA...ACC', SingleLetterAlphabet())\n",
      "3420\n",
      "refseq|NC_034614|3383bp|Zostera\n",
      "Seq('GTTAAACACAGGCGTTGCGAACGGAAAAGGTAAGTACGTTCGTAAAGCACGTGC...GCG', SingleLetterAlphabet())\n",
      "3383\n",
      "refseq|NC_034615|3316bp|Zostera\n",
      "Seq('GCAAGTTAATCAGGTAGTGAGACACAGCAGGCAGCTGACTGTGCAAATTTGTGA...TTC', SingleLetterAlphabet())\n",
      "3316\n",
      "refseq|NC_003874|3157bp|Zygosaccharomyces\n",
      "Seq('GTAAAAGAACAAGCGTTTGTTCATTTTATCTTTTTAAGTTTTTAGTATGGAAAA...TGG', SingleLetterAlphabet())\n",
      "3157\n"
     ]
    }
   ],
   "source": [
    "for seq_record in SeqIO.parse(\"data/S9_Viral_FA/Amalgaviridae.fa\", \"fasta\"):\n",
    "    print(seq_record.id)\n",
    "    print(repr(seq_record.seq))\n",
    "    print(len(seq_record))"
   ]
  },
  {
   "cell_type": "markdown",
   "metadata": {},
   "source": [
    "---"
   ]
  },
  {
   "cell_type": "markdown",
   "metadata": {},
   "source": [
    "#### How do we turn this into a Pandas Dataframe that we can work with?"
   ]
  },
  {
   "cell_type": "code",
   "execution_count": 17,
   "metadata": {},
   "outputs": [],
   "source": [
    "import pandas as pd"
   ]
  },
  {
   "cell_type": "code",
   "execution_count": 27,
   "metadata": {},
   "outputs": [
    {
     "data": {
      "text/html": [
       "<div>\n",
       "<style scoped>\n",
       "    .dataframe tbody tr th:only-of-type {\n",
       "        vertical-align: middle;\n",
       "    }\n",
       "\n",
       "    .dataframe tbody tr th {\n",
       "        vertical-align: top;\n",
       "    }\n",
       "\n",
       "    .dataframe thead th {\n",
       "        text-align: right;\n",
       "    }\n",
       "</style>\n",
       "<table border=\"1\" class=\"dataframe\">\n",
       "  <thead>\n",
       "    <tr style=\"text-align: right;\">\n",
       "      <th></th>\n",
       "      <th>Genus</th>\n",
       "      <th>Species</th>\n",
       "      <th>Sequence_Length</th>\n",
       "      <th>Sequence</th>\n",
       "    </tr>\n",
       "  </thead>\n",
       "  <tbody>\n",
       "    <tr>\n",
       "      <th>0</th>\n",
       "      <td>Amalgaviridae</td>\n",
       "      <td>Antonospora</td>\n",
       "      <td>3387</td>\n",
       "      <td>Seq('ACAAATGGAAGCGAGTGTCTTCGTTAGCCGTCTCATGGCCA...</td>\n",
       "    </tr>\n",
       "    <tr>\n",
       "      <th>1</th>\n",
       "      <td>Amalgaviridae</td>\n",
       "      <td>Blueberry</td>\n",
       "      <td>3431</td>\n",
       "      <td>Seq('GTATTTTTATTTTCGGACACCGAGGTTCCTTCTGCGTGCGC...</td>\n",
       "    </tr>\n",
       "    <tr>\n",
       "      <th>2</th>\n",
       "      <td>Amalgaviridae</td>\n",
       "      <td>Rhododendron</td>\n",
       "      <td>3427</td>\n",
       "      <td>Seq('GTATTAATTTATATCAAATACAAAAGACTGCAGGTGACTGA...</td>\n",
       "    </tr>\n",
       "    <tr>\n",
       "      <th>3</th>\n",
       "      <td>Amalgaviridae</td>\n",
       "      <td>Southern</td>\n",
       "      <td>3437</td>\n",
       "      <td>Seq('GATAAATTTAGTAAGCTACCTAGCGGAATTAAGAACTTTCA...</td>\n",
       "    </tr>\n",
       "    <tr>\n",
       "      <th>4</th>\n",
       "      <td>Amalgaviridae</td>\n",
       "      <td>Spinach</td>\n",
       "      <td>3420</td>\n",
       "      <td>Seq('CCATATAATTGTTTTGCCATCGAGAAAAACGTCAAGAGGAA...</td>\n",
       "    </tr>\n",
       "    <tr>\n",
       "      <th>...</th>\n",
       "      <td>...</td>\n",
       "      <td>...</td>\n",
       "      <td>...</td>\n",
       "      <td>...</td>\n",
       "    </tr>\n",
       "    <tr>\n",
       "      <th>91</th>\n",
       "      <td>Spumavirus</td>\n",
       "      <td>Bovine</td>\n",
       "      <td>12002</td>\n",
       "      <td>Seq('TGTGGTGGGAAGACCACCCGGAAATAAGCAAGGGCCAGCCC...</td>\n",
       "    </tr>\n",
       "    <tr>\n",
       "      <th>92</th>\n",
       "      <td>Spumavirus</td>\n",
       "      <td>Equine</td>\n",
       "      <td>12035</td>\n",
       "      <td>Seq('TGTCATGGAATGAGGATCCAGAGACTAAGAATATAGCTATT...</td>\n",
       "    </tr>\n",
       "    <tr>\n",
       "      <th>93</th>\n",
       "      <td>Spumavirus</td>\n",
       "      <td>Feline</td>\n",
       "      <td>10479</td>\n",
       "      <td>Seq('GAGCTCTTCTCACAGACTTGGCTGCGTCCAGGGTGAGATTG...</td>\n",
       "    </tr>\n",
       "    <tr>\n",
       "      <th>94</th>\n",
       "      <td>Spumavirus</td>\n",
       "      <td>Macaque</td>\n",
       "      <td>12972</td>\n",
       "      <td>Seq('TGTGGCAGACAGCCACTAAATGTATAGGACCAGAGGAGGAA...</td>\n",
       "    </tr>\n",
       "    <tr>\n",
       "      <th>95</th>\n",
       "      <td>Spumavirus</td>\n",
       "      <td>Simian</td>\n",
       "      <td>13246</td>\n",
       "      <td>Seq('TGTGGTGGAATGCCACTAGAAATCAGGGAAAGAAAGATGAG...</td>\n",
       "    </tr>\n",
       "  </tbody>\n",
       "</table>\n",
       "<p>96 rows × 4 columns</p>\n",
       "</div>"
      ],
      "text/plain": [
       "            Genus       Species  Sequence_Length  \\\n",
       "0   Amalgaviridae   Antonospora             3387   \n",
       "1   Amalgaviridae     Blueberry             3431   \n",
       "2   Amalgaviridae  Rhododendron             3427   \n",
       "3   Amalgaviridae      Southern             3437   \n",
       "4   Amalgaviridae       Spinach             3420   \n",
       "..            ...           ...              ...   \n",
       "91     Spumavirus        Bovine            12002   \n",
       "92     Spumavirus        Equine            12035   \n",
       "93     Spumavirus        Feline            10479   \n",
       "94     Spumavirus       Macaque            12972   \n",
       "95     Spumavirus        Simian            13246   \n",
       "\n",
       "                                             Sequence  \n",
       "0   Seq('ACAAATGGAAGCGAGTGTCTTCGTTAGCCGTCTCATGGCCA...  \n",
       "1   Seq('GTATTTTTATTTTCGGACACCGAGGTTCCTTCTGCGTGCGC...  \n",
       "2   Seq('GTATTAATTTATATCAAATACAAAAGACTGCAGGTGACTGA...  \n",
       "3   Seq('GATAAATTTAGTAAGCTACCTAGCGGAATTAAGAACTTTCA...  \n",
       "4   Seq('CCATATAATTGTTTTGCCATCGAGAAAAACGTCAAGAGGAA...  \n",
       "..                                                ...  \n",
       "91  Seq('TGTGGTGGGAAGACCACCCGGAAATAAGCAAGGGCCAGCCC...  \n",
       "92  Seq('TGTCATGGAATGAGGATCCAGAGACTAAGAATATAGCTATT...  \n",
       "93  Seq('GAGCTCTTCTCACAGACTTGGCTGCGTCCAGGGTGAGATTG...  \n",
       "94  Seq('TGTGGCAGACAGCCACTAAATGTATAGGACCAGAGGAGGAA...  \n",
       "95  Seq('TGTGGTGGAATGCCACTAGAAATCAGGGAAAGAAAGATGAG...  \n",
       "\n",
       "[96 rows x 4 columns]"
      ]
     },
     "execution_count": 27,
     "metadata": {},
     "output_type": "execute_result"
    }
   ],
   "source": [
    "# List of filenames \n",
    "list_of_filenames = ['Amalgaviridae','Badnavirus',\n",
    "                     'Birnaviridae','Caulimovirus',\n",
    "                     'Reptarenavirus','Soymovirus',\n",
    "                     'Spumavirus']\n",
    "\n",
    "# Initialize list to store info from each file\n",
    "list_of_files_info = []\n",
    "\n",
    "# Go through every file\n",
    "for filename in list_of_filenames:\n",
    "    \n",
    "    # Go through every record in our file and parse it\n",
    "    for seq_record in SeqIO.parse(f'data/S9_Viral_FA/{filename}.fa', 'fasta'):\n",
    "        \n",
    "        # Create a temporary dict to store following info\n",
    "        temp_dict = {}\n",
    "\n",
    "        # Store the Genus (from filename)\n",
    "        temp_dict['Genus'] = filename\n",
    "        \n",
    "        # Grab the Species from 4th part of the sequence record id\n",
    "        temp_dict['Species'] = seq_record.id.split('|')[3]\n",
    "        \n",
    "        # Grab the sequence length (may not be needed)\n",
    "        temp_dict['Sequence_Length'] = len(seq_record)\n",
    "        \n",
    "        # Grab the sequence\n",
    "        temp_dict['Sequence'] = repr(seq_record.seq)\n",
    "        \n",
    "        # Append this file info to our list\n",
    "        list_of_files_info.append(temp_dict)\n",
    "\n",
    "# Create the pandas DataFrame from our list of files info\n",
    "df = pd.DataFrame(list_of_files_info)\n",
    "df"
   ]
  },
  {
   "cell_type": "markdown",
   "metadata": {},
   "source": [
    "### Make a histogram of all the sequences placed into buckets of 100 base pairs apart"
   ]
  },
  {
   "cell_type": "code",
   "execution_count": null,
   "metadata": {},
   "outputs": [],
   "source": []
  }
 ],
 "metadata": {
  "kernelspec": {
   "display_name": "Python 3",
   "language": "python",
   "name": "python3"
  },
  "language_info": {
   "codemirror_mode": {
    "name": "ipython",
    "version": 3
   },
   "file_extension": ".py",
   "mimetype": "text/x-python",
   "name": "python",
   "nbconvert_exporter": "python",
   "pygments_lexer": "ipython3",
   "version": "3.6.10"
  }
 },
 "nbformat": 4,
 "nbformat_minor": 4
}
